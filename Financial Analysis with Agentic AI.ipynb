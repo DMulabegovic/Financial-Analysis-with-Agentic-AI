{
 "cells": [
  {
   "cell_type": "markdown",
   "id": "1f52b66b",
   "metadata": {},
   "source": [
    "Financial Analysis with Agentic AI Project"
   ]
  },
  {
   "cell_type": "markdown",
   "id": "17463cb7",
   "metadata": {},
   "source": [
    "Setup:"
   ]
  },
  {
   "cell_type": "code",
   "execution_count": null,
   "id": "09c47a2b",
   "metadata": {},
   "outputs": [
    {
     "name": "stdout",
     "output_type": "stream",
     "text": [
      "Plan: \n",
      "Get prices, financials, news and macro. Then synthesize, evaluate, improve and save to memory.\n",
      "\n",
      "\n",
      "Current Settings: \n",
      "\n",
      "Ticker: AAPL\n",
      "\n",
      "Alpha Vantage: Present\n",
      "\n",
      "Fred API: Present\n",
      "\n",
      "News API: Present\n",
      "\n",
      "LLM: Present\n",
      "\n"
     ]
    }
   ],
   "source": [
    "# Necessary libraries\n",
    "import os, json, time, random, pathlib, datetime as dt, math, warnings, re\n",
    "from typing import List, Dict, Tuple, Optional\n",
    "import numpy as np\n",
    "import pandas as pd \n",
    "import matplotlib.pyplot as plt\n",
    "import requests\n",
    "from dotenv import load_dotenv\n",
    "\n",
    "# Additional libraries\n",
    "try:\n",
    "    import yfinance as yf\n",
    "except Exception:\n",
    "    yf = None\n",
    "\n",
    "try:\n",
    "    from pandas_datareader import data as pdr\n",
    "except Exception:\n",
    "    pdr = None\n",
    "\n",
    "try:\n",
    "    import fredapi as Fred\n",
    "except Exception:\n",
    "    Fred = None\n",
    "\n",
    "# Loads API Keys\n",
    "load_dotenv()\n",
    "\n",
    "# Suppress warnings\n",
    "warnings.filterwarnings(\"ignore\")\n",
    "\n",
    "# API keys, LLM model & repo Link\n",
    "alphavantage_key = os.getenv(\"ALPHAVANTAGE_KEY\", \"\")\n",
    "fredapi_key = os.getenv(\"FREDAPI_KEY\", \"\")\n",
    "newsapi_key = os.getenv(\"NEWSAPI_KEY\", \"\")\n",
    "openai_key = os.getenv(\"OPENAI_API_KEY\", \"\")\n",
    "llm_model = os.getenv(\"LLM_MODEL\", \"gpt-4o-mini\")\n",
    "repo = \"https://github.com/DMulabegovic/Financial-Analysis-with-Agentic-AI.git\"\n",
    "\n",
    "# Default plot configurations\n",
    "plt.rcParams['figure.figsize'] = (12, 6)\n",
    "plt.rcParams['axes.titlesize'] = 14\n",
    "plt.rcParams['axes.labelsize'] = 12\n",
    "\n",
    "# Reproducibility \n",
    "np.random.seed(42)\n",
    "random.seed(42)\n",
    "\n",
    "# Ticker choice\n",
    "ticker = 'AAPL'\n",
    "\n",
    "# Paths/Memory\n",
    "root = pathlib.Path('.').resolve()\n",
    "memory_directory = root / \"memory\"\n",
    "memory_directory.mkdir(exist_ok=True)\n",
    "\n",
    "# Track where data comes from\n",
    "source_tracker = {\"prices\": None, \"financials\": None, \"macro\": None, \"news\": None, \"llm\": bool(openai_key)}\n",
    "\n",
    "# Get current time\n",
    "def current_time(): \n",
    "    return dt.datetime.utcnow().isoformat()+\"Z\"\n",
    "\n",
    "# Get counts of data present per source\n",
    "def source_counter(name, data_count):\n",
    "    print(f\"Source {name}: {data_count} entries\")\n",
    "\n",
    "# Plan notice for user\n",
    "print(\"Plan: \")\n",
    "print(\"Get prices, financials, news and macro. Then synthesize, evaluate, improve and save to memory.\\n\")\n",
    "\n",
    "# Debug check \n",
    "print(f\"\\nCurrent Settings: \\n\")\n",
    "print(f\"Ticker: {ticker}\\n\")\n",
    "print(f\"Alpha Vantage: {'Present' if alphavantage_key else 'Missing'}\\n\")\n",
    "print(f\"Fred API: {'Present' if fredapi_key else 'Missing'}\\n\")\n",
    "print(f\"News API: {'Present' if newsapi_key else 'Missing'}\\n\")\n",
    "print(f\"LLM: {'Present' if openai_key else 'Missing'}\\n\")"
   ]
  }
 ],
 "metadata": {
  "kernelspec": {
   "display_name": "Asg4",
   "language": "python",
   "name": "python3"
  },
  "language_info": {
   "codemirror_mode": {
    "name": "ipython",
    "version": 3
   },
   "file_extension": ".py",
   "mimetype": "text/x-python",
   "name": "python",
   "nbconvert_exporter": "python",
   "pygments_lexer": "ipython3",
   "version": "3.10.18"
  }
 },
 "nbformat": 4,
 "nbformat_minor": 5
}
