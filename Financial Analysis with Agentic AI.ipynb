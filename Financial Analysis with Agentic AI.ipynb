{
 "cells": [
  {
   "cell_type": "markdown",
   "id": "1f52b66b",
   "metadata": {},
   "source": [
    "Financial Analysis with Agentic AI Project"
   ]
  },
  {
   "cell_type": "markdown",
   "id": "17463cb7",
   "metadata": {},
   "source": [
    "Setup:"
   ]
  },
  {
   "cell_type": "code",
   "execution_count": 1,
   "id": "09c47a2b",
   "metadata": {},
   "outputs": [
    {
     "ename": "ModuleNotFoundError",
     "evalue": "No module named 'numpy'",
     "output_type": "error",
     "traceback": [
      "\u001b[0;31m---------------------------------------------------------------------------\u001b[0m",
      "\u001b[0;31mModuleNotFoundError\u001b[0m                       Traceback (most recent call last)",
      "Cell \u001b[0;32mIn[1], line 4\u001b[0m\n\u001b[1;32m      2\u001b[0m \u001b[38;5;28;01mimport\u001b[39;00m\u001b[38;5;250m \u001b[39m\u001b[38;5;21;01mos\u001b[39;00m\u001b[38;5;241m,\u001b[39m\u001b[38;5;250m \u001b[39m\u001b[38;5;21;01mjson\u001b[39;00m\u001b[38;5;241m,\u001b[39m\u001b[38;5;250m \u001b[39m\u001b[38;5;21;01mtime\u001b[39;00m\u001b[38;5;241m,\u001b[39m\u001b[38;5;250m \u001b[39m\u001b[38;5;21;01mrandom\u001b[39;00m\u001b[38;5;241m,\u001b[39m\u001b[38;5;250m \u001b[39m\u001b[38;5;21;01mpathlib\u001b[39;00m\u001b[38;5;241m,\u001b[39m\u001b[38;5;250m \u001b[39m\u001b[38;5;21;01mdatetime\u001b[39;00m\u001b[38;5;250m \u001b[39m\u001b[38;5;28;01mas\u001b[39;00m\u001b[38;5;250m \u001b[39m\u001b[38;5;21;01mdt\u001b[39;00m\u001b[38;5;241m,\u001b[39m\u001b[38;5;250m \u001b[39m\u001b[38;5;21;01mmath\u001b[39;00m\u001b[38;5;241m,\u001b[39m\u001b[38;5;250m \u001b[39m\u001b[38;5;21;01mwarnings\u001b[39;00m\u001b[38;5;241m,\u001b[39m\u001b[38;5;250m \u001b[39m\u001b[38;5;21;01mre\u001b[39;00m\n\u001b[1;32m      3\u001b[0m \u001b[38;5;28;01mfrom\u001b[39;00m\u001b[38;5;250m \u001b[39m\u001b[38;5;21;01mtyping\u001b[39;00m\u001b[38;5;250m \u001b[39m\u001b[38;5;28;01mimport\u001b[39;00m List, Dict, Tuple, Optional\n\u001b[0;32m----> 4\u001b[0m \u001b[38;5;28;01mimport\u001b[39;00m\u001b[38;5;250m \u001b[39m\u001b[38;5;21;01mnumpy\u001b[39;00m\u001b[38;5;250m \u001b[39m\u001b[38;5;28;01mas\u001b[39;00m\u001b[38;5;250m \u001b[39m\u001b[38;5;21;01mnp\u001b[39;00m\n\u001b[1;32m      5\u001b[0m \u001b[38;5;28;01mimport\u001b[39;00m\u001b[38;5;250m \u001b[39m\u001b[38;5;21;01mpandas\u001b[39;00m\u001b[38;5;250m \u001b[39m\u001b[38;5;28;01mas\u001b[39;00m\u001b[38;5;250m \u001b[39m\u001b[38;5;21;01mpd\u001b[39;00m \n\u001b[1;32m      6\u001b[0m \u001b[38;5;28;01mimport\u001b[39;00m\u001b[38;5;250m \u001b[39m\u001b[38;5;21;01mmatplotlib\u001b[39;00m\u001b[38;5;21;01m.\u001b[39;00m\u001b[38;5;21;01mpyplot\u001b[39;00m\u001b[38;5;250m \u001b[39m\u001b[38;5;28;01mas\u001b[39;00m\u001b[38;5;250m \u001b[39m\u001b[38;5;21;01mplt\u001b[39;00m\n",
      "\u001b[0;31mModuleNotFoundError\u001b[0m: No module named 'numpy'"
     ]
    }
   ],
   "source": [
    "# Necessary libraries\n",
    "import os, json, time, random, pathlib, datetime as dt, math, warnings, re\n",
    "from typing import List, Dict, Tuple, Optional\n",
    "import numpy as np\n",
    "import pandas as pd \n",
    "import matplotlib.pyplot as plt\n",
    "import requests\n",
    "from dotenv import load_dotenv\n",
    "\n",
    "# Additional libraries\n",
    "try:\n",
    "    import yfinance as yf\n",
    "except Exception:\n",
    "    yf = None\n",
    "\n",
    "try:\n",
    "    from pandas_datareader import data as pdr\n",
    "except Exception:\n",
    "    pdr = None\n",
    "\n",
    "try:\n",
    "    import fredapi as Fred\n",
    "except Exception:\n",
    "    Fred = None\n",
    "\n",
    "# Loads API Keys\n",
    "load_dotenv()\n",
    "\n",
    "# Suppress warnings\n",
    "warnings.filterwarnings(\"ignore\")\n",
    "\n",
    "# API keys, LLM model & repo Link\n",
    "alphavantage_key = os.getenv(\"ALPHAVANTAGE_KEY\", \"\")\n",
    "fredapi_key = os.getenv(\"FREDAPI_KEY\", \"\")\n",
    "newsapi_key = os.getenv(\"NEWSAPI_KEY\", \"\")\n",
    "openai_key = os.getenv(\"OPENAI_API_KEY\", \"\")\n",
    "llm_model = os.getenv(\"LLM_MODEL\", \"gpt-4o-mini\")\n",
    "repo = \"https://github.com/DMulabegovic/Financial-Analysis-with-Agentic-AI.git\"\n",
    "\n",
    "# Default plot configurations\n",
    "plt.rcParams['figure.figsize'] = (12, 6)\n",
    "plt.rcParams['axes.titlesize'] = 14\n",
    "plt.rcParams['axes.labelsize'] = 12\n",
    "\n",
    "# Reproducibility \n",
    "np.random.seed(42)\n",
    "random.seed(42)\n",
    "\n",
    "# Ticker choice\n",
    "ticker = 'AAPL'\n",
    "\n",
    "# Paths/Memory\n",
    "root = pathlib.Path('.').resolve()\n",
    "memory_directory = root / \"memory\"\n",
    "memory_directory.mkdir(exist_ok=True)\n",
    "\n",
    "# Track where data comes from\n",
    "source_tracker = {\"prices\": None, \"financials\": None, \"macro\": None, \"news\": None, \"llm\": bool(openai_key)}\n",
    "\n",
    "# Get current time\n",
    "def current_time(): \n",
    "    return dt.datetime.utcnow().isoformat()+\"Z\"\n",
    "\n",
    "# Get counts of data present per source\n",
    "def source_counter(name, data_count):\n",
    "    print(f\"Source {name}: {data_count} entries\")\n",
    "\n",
    "# Plan notice for user\n",
    "print(\"Plan: \")\n",
    "print(\"Get prices, financials, news and macro. Then synthesize, evaluate, improve and save to memory.\\n\")\n",
    "\n",
    "# Debug check \n",
    "print(f\"\\nCurrent Settings: \\n\")\n",
    "print(f\"Ticker: {ticker}\\n\")\n",
    "print(f\"Alpha Vantage: {'Present' if alphavantage_key else 'Missing'}\\n\")\n",
    "print(f\"Fred API: {'Present' if fredapi_key else 'Missing'}\\n\")\n",
    "print(f\"News API: {'Present' if newsapi_key else 'Missing'}\\n\")\n",
    "print(f\"LLM: {'Present' if openai_key else 'Missing'}\\n\")"
   ]
  }
 ],
 "metadata": {
  "kernelspec": {
   "display_name": "Python 3",
   "language": "python",
   "name": "python3"
  },
  "language_info": {
   "codemirror_mode": {
    "name": "ipython",
    "version": 3
   },
   "file_extension": ".py",
   "mimetype": "text/x-python",
   "name": "python",
   "nbconvert_exporter": "python",
   "pygments_lexer": "ipython3",
   "version": "3.13.7"
  }
 },
 "nbformat": 4,
 "nbformat_minor": 5
}
